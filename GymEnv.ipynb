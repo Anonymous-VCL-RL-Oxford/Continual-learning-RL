{
 "cells": [
  {
   "cell_type": "code",
   "execution_count": 1,
   "metadata": {},
   "outputs": [],
   "source": [
    "import numpy as np\n",
    "import random\n",
    "import torch\n",
    "import numpy as np\n",
    "from collections import deque\n",
    "from itertools import product\n",
    "import pandas as pd\n",
    "import matplotlib.pyplot as plt\n",
    "from agents.q_learner import Q_learner\n",
    "from utils.cartpole import CartPoleEnv\n",
    "%matplotlib inline\n"
   ]
  },
  {
   "cell_type": "code",
   "execution_count": 2,
   "metadata": {},
   "outputs": [],
   "source": [
    "args = dict()\n",
    "args[\"BUFFER_SIZE\"] = int(500)  # replay buffer size\n",
    "args[\"BATCH_SIZE\"] = 32  # minibatch size\n",
    "args[\"GAMMA\"] = 0.95  # discount factor\n",
    "args[\"TAU\"] = 1e-3  # for soft update of target parameters\n",
    "args[\"LR\"] = 0.001  # learning rate\n",
    "args[\"UPDATE_EVERY\"] = 4  # how often to update the network\n",
    "\n",
    "env_name = 'CartPole-v1'\n",
    "\n",
    "def my_product(inp):\n",
    "    return (dict(zip(inp.keys(), values)) for values in product(*inp.values()))"
   ]
  },
  {
   "cell_type": "code",
   "execution_count": 3,
   "metadata": {},
   "outputs": [],
   "source": [
    "def transform_dict_to_tuple(param):\n",
    "    param_list = []\n",
    "    if \"seed\" not in param.keys():\n",
    "        param_list += [0]\n",
    "    else:\n",
    "        param_list += [param[\"seed\"]]\n",
    "        \n",
    "    if \"length\" not in param.keys():\n",
    "        param_list += [0.5]\n",
    "    else:\n",
    "        param_list += [param[\"length\"]]\n",
    "        \n",
    "    if \"gravity\" not in param.keys():\n",
    "        param_list += [9.8]\n",
    "    else:\n",
    "        param_list += [param[\"gravity\"]]\n",
    "        \n",
    "    if \"force_mag\" not in param.keys():\n",
    "        param_list += [10.0]\n",
    "    else:\n",
    "        param_list += [param[\"force_mag\"]]\n",
    "    return tuple(param_list)"
   ]
  },
  {
   "cell_type": "code",
   "execution_count": 4,
   "metadata": {},
   "outputs": [],
   "source": [
    "class Task_Wrapper():\n",
    "    def __init__(self, env_name, params):\n",
    "        self.env_name = env_name\n",
    "        self.params = list(my_product(params))\n",
    "        self.current_param = 0\n",
    "        self.seed = seed\n",
    "        self.envs = []\n",
    "        \n",
    "    def next_task(self):\n",
    "        params = self.params[self.current_param]\n",
    "        params_tuple = transform_dict_to_tuple(params)\n",
    "        env = CartPoleEnv(**params)\n",
    "        env.seed(self.seed)\n",
    "        self.current_param+=1\n",
    "        self.envs.append({params_tuple : env})\n",
    "        return self.envs\n",
    "    \n",
    "    def get_env(self, index):\n",
    "        params = self.params[index]\n",
    "        env = CartPoleEnv(**params)\n",
    "        env.seed(self.seed)\n",
    "        return env \n",
    "\n",
    "class Queue():\n",
    "    def __init__(self, capacity):\n",
    "        self.capacity = capacity-1\n",
    "        self.queue = []\n",
    "        self.nb_elems = -1\n",
    "        \n",
    "    def add(self, elem):\n",
    "        if self.nb_elems == self.capacity:\n",
    "            self.pop()\n",
    "            self.add(elem)\n",
    "        else:\n",
    "            self.queue.append(elem)\n",
    "            self.nb_elems+=1\n",
    "    \n",
    "    def pop(self):        \n",
    "        self.nb_elems -=1\n",
    "        return self.queue.pop(0)"
   ]
  },
  {
   "cell_type": "code",
   "execution_count": 5,
   "metadata": {},
   "outputs": [],
   "source": [
    "def dqn(envs, agent = None, n_episodes=10000, max_t=1000, eps_start=1, eps_end=0.01, eps_decay=0.995):\n",
    "    scores_test = [Queue(100) for i in range(len(envs))]\n",
    "    scores = []                        \n",
    "    scores_window = deque(maxlen=100)  \n",
    "    eps = eps_start                    \n",
    "    env = list(envs[-1].values())[0]\n",
    "    for i_episode in range(1, n_episodes+1):\n",
    "        test_dqns(scores_test, envs, agent)\n",
    "\n",
    "        state = env.reset()\n",
    "        score = 0\n",
    "        for t in range(max_t):\n",
    "            action = agent.act(state, eps)\n",
    "            next_state, reward, done, _ = env.step(action)\n",
    "            agent.step(state, action, reward, next_state, done)\n",
    "            state = next_state\n",
    "            score += reward\n",
    "            if done:\n",
    "                break \n",
    "        scores_window.append(score)       \n",
    "        scores.append(score)              \n",
    "        eps = max(eps_end, eps_decay*eps)\n",
    "        \n",
    "        print('\\rEpisode {}\\tAverage Score: {:.2f}'.format(i_episode, np.mean(scores_window)), end=\"\")\n",
    "        if i_episode % 100 == 0:\n",
    "            print('\\rEpisode {}\\tAverage Score: {:.2f}'.format(i_episode, np.mean(scores_window)))\n",
    "        if np.mean(scores_window)>=200.0:\n",
    "            print('\\nEnvironment solved in {:d} episodes!\\tAverage Score: {:.2f}'.format(i_episode-100, np.mean(scores_window)))\n",
    "            torch.save(agent.qnetwork_local.state_dict(), 'models/checkpoints/checkpoint.pth')\n",
    "            break\n",
    "    scores_test_list = [np.array(scores_test[i].queue).mean() for i in range(len(scores_test)) ]\n",
    "    return scores, scores_test\n",
    "\n",
    "\n",
    "def test_dqns(scores_test, envs, agent, n_episodes = 10, max_t = 1000):\n",
    "    for i in range(len(envs)):\n",
    "        env_i = list(envs[i].values())[0]\n",
    "        scores_test[i].add(test_dqn(env_i, agent))\n",
    "            \n",
    "            \n",
    "def test_dqn(env, agent = None, n_episodes=10, max_t=1000):\n",
    "    _scores = 0                       \n",
    "    for i_episode in range(1, n_episodes+1):\n",
    "        _state = env.reset()\n",
    "        _score = 0\n",
    "        for t in range(max_t):\n",
    "            _action = agent.act(_state, 0.0)\n",
    "            _next_state, _reward, _done, _ = env.step(_action)\n",
    "            _state = _next_state\n",
    "            _score += _reward\n",
    "            if _done:\n",
    "                break \n",
    "        _scores +=  _score              \n",
    "    return _scores/n_episodes"
   ]
  },
  {
   "cell_type": "code",
   "execution_count": 6,
   "metadata": {},
   "outputs": [
    {
     "name": "stdout",
     "output_type": "stream",
     "text": [
      "Params: (Seed, Length, Gravity, Force_mag)\n",
      "Current param: (0, 1, 9.8, 10.0)\n",
      "Episode 100\tAverage Score: 25.00\n",
      "Episode 200\tAverage Score: 20.80\n",
      "Episode 300\tAverage Score: 15.74\n",
      "Episode 400\tAverage Score: 16.55\n",
      "Episode 500\tAverage Score: 15.36\n",
      "Episode 600\tAverage Score: 14.03\n",
      "Episode 700\tAverage Score: 16.69\n",
      "Episode 800\tAverage Score: 19.23\n",
      "Episode 900\tAverage Score: 45.45\n",
      "Episode 1000\tAverage Score: 185.48\n",
      "Episode 1008\tAverage Score: 200.35\n",
      "Environment solved in 908 episodes!\tAverage Score: 200.35\n",
      "[<__main__.Queue object at 0x7f6763f0afd0>]\n",
      "Current param: (0, 10, 9.8, 10.0)\n",
      "Episode 100\tAverage Score: 121.47\n",
      "Episode 200\tAverage Score: 122.07\n",
      "Episode 300\tAverage Score: 133.53\n",
      "Episode 400\tAverage Score: 140.03\n",
      "Episode 500\tAverage Score: 164.86\n",
      "Episode 600\tAverage Score: 165.33\n",
      "Episode 700\tAverage Score: 160.45\n",
      "Episode 800\tAverage Score: 179.85\n",
      "Episode 843\tAverage Score: 200.35\n",
      "Environment solved in 743 episodes!\tAverage Score: 200.35\n",
      "[<__main__.Queue object at 0x7f6763f0af60>, <__main__.Queue object at 0x7f6763f0acf8>]\n",
      "Current param: (0, 100, 9.8, 10.0)\n",
      "Episode 1\tAverage Score: 206.00\n",
      "Environment solved in -99 episodes!\tAverage Score: 206.00\n",
      "[<__main__.Queue object at 0x7f6763f0ae48>, <__main__.Queue object at 0x7f6763f0a748>, <__main__.Queue object at 0x7f6763f0a8d0>]\n"
     ]
    }
   ],
   "source": [
    "params = {\"length\": [1, 10, 100]}\n",
    "\n",
    "print(\"Params: (Seed, Length, Gravity, Force_mag)\")\n",
    "agent = Q_learner(state_size=4, action_size=2, seed=0, hiddens = [100,100], args = args)\n",
    "seed = 0\n",
    "\n",
    "task_wrapper = Task_Wrapper(env_name,params)\n",
    "scores = dict()\n",
    "test_scores = dict()\n",
    "for task_id in range(len(task_wrapper.params)):\n",
    "    envs = task_wrapper.next_task()\n",
    "    param_tuple = list(envs[-1].keys())[0]\n",
    "    print(\"Current param: {}\".format(param_tuple))\n",
    "    scores[param_tuple], test_scores[param_tuple] = dqn(envs, agent)\n",
    "    print(test_scores[param_tuple])\n",
    "    #test_scores_i = dict()\n",
    "    #print(\"current:{}\".format(task_wrapper.current_param))\n",
    "    #for i in range(task_wrapper.current_param):\n",
    "    #    score_test_i = np.array(test_dqn(task_wrapper.get_env(i), agent))\n",
    "    #    score_test_i_mean = score_test_i.mean()\n",
    "    #    test_scores_i[transform_dict_to_tuple(task_wrapper.params[i])] = score_test_i_mean\n",
    "    #test_scores.append(test_scores_i)  "
   ]
  },
  {
   "cell_type": "code",
   "execution_count": 7,
   "metadata": {},
   "outputs": [
    {
     "name": "stdout",
     "output_type": "stream",
     "text": [
      "{(0, 1, 9.8, 10.0): [43.0, 16.0, 33.0, 36.0, 72.0, 33.0, 23.0, 16.0, 20.0, 32.0, 32.0, 59.0, 29.0, 35.0, 26.0, 33.0, 31.0, 28.0, 12.0, 36.0, 16.0, 20.0, 34.0, 23.0, 41.0, 31.0, 21.0, 29.0, 29.0, 24.0, 25.0, 16.0, 13.0, 35.0, 17.0, 29.0, 16.0, 21.0, 35.0, 20.0, 22.0, 15.0, 19.0, 21.0, 17.0, 35.0, 36.0, 20.0, 24.0, 33.0, 18.0, 38.0, 18.0, 19.0, 35.0, 21.0, 20.0, 21.0, 21.0, 19.0, 25.0, 41.0, 32.0, 38.0, 21.0, 12.0, 30.0, 23.0, 19.0, 17.0, 30.0, 21.0, 31.0, 12.0, 18.0, 13.0, 24.0, 21.0, 19.0, 21.0, 31.0, 20.0, 19.0, 15.0, 23.0, 22.0, 29.0, 23.0, 14.0, 17.0, 17.0, 22.0, 17.0, 17.0, 29.0, 15.0, 30.0, 19.0, 21.0, 20.0, 30.0, 32.0, 82.0, 25.0, 19.0, 18.0, 20.0, 13.0, 21.0, 21.0, 20.0, 13.0, 21.0, 18.0, 13.0, 13.0, 18.0, 18.0, 15.0, 19.0, 26.0, 43.0, 19.0, 13.0, 18.0, 21.0, 18.0, 32.0, 19.0, 13.0, 53.0, 16.0, 24.0, 25.0, 21.0, 13.0, 59.0, 22.0, 21.0, 54.0, 18.0, 17.0, 18.0, 15.0, 14.0, 20.0, 20.0, 23.0, 18.0, 20.0, 30.0, 19.0, 26.0, 22.0, 15.0, 15.0, 32.0, 57.0, 15.0, 16.0, 18.0, 18.0, 20.0, 20.0, 34.0, 23.0, 20.0, 17.0, 14.0, 16.0, 12.0, 18.0, 14.0, 19.0, 17.0, 18.0, 15.0, 15.0, 17.0, 21.0, 18.0, 17.0, 16.0, 12.0, 12.0, 12.0, 22.0, 13.0, 16.0, 16.0, 13.0, 20.0, 17.0, 14.0, 13.0, 15.0, 16.0, 13.0, 15.0, 15.0, 15.0, 16.0, 13.0, 15.0, 17.0, 40.0, 24.0, 17.0, 19.0, 14.0, 16.0, 15.0, 14.0, 15.0, 13.0, 22.0, 17.0, 11.0, 15.0, 17.0, 15.0, 16.0, 14.0, 13.0, 20.0, 21.0, 24.0, 12.0, 14.0, 19.0, 15.0, 13.0, 15.0, 13.0, 14.0, 15.0, 18.0, 14.0, 18.0, 15.0, 17.0, 15.0, 23.0, 14.0, 14.0, 17.0, 18.0, 16.0, 18.0, 13.0, 13.0, 13.0, 20.0, 13.0, 15.0, 15.0, 16.0, 11.0, 13.0, 15.0, 14.0, 20.0, 15.0, 14.0, 14.0, 12.0, 13.0, 16.0, 13.0, 12.0, 22.0, 15.0, 18.0, 14.0, 11.0, 13.0, 16.0, 13.0, 14.0, 15.0, 16.0, 12.0, 15.0, 14.0, 23.0, 12.0, 16.0, 17.0, 15.0, 18.0, 16.0, 14.0, 13.0, 16.0, 13.0, 15.0, 15.0, 23.0, 11.0, 14.0, 24.0, 13.0, 13.0, 17.0, 12.0, 19.0, 27.0, 14.0, 13.0, 13.0, 14.0, 15.0, 13.0, 23.0, 23.0, 21.0, 15.0, 12.0, 14.0, 14.0, 12.0, 13.0, 14.0, 16.0, 32.0, 22.0, 14.0, 15.0, 18.0, 14.0, 17.0, 16.0, 18.0, 14.0, 13.0, 15.0, 22.0, 25.0, 14.0, 17.0, 19.0, 19.0, 24.0, 13.0, 12.0, 16.0, 20.0, 25.0, 15.0, 16.0, 11.0, 17.0, 18.0, 11.0, 16.0, 13.0, 16.0, 17.0, 20.0, 13.0, 14.0, 13.0, 14.0, 17.0, 25.0, 12.0, 12.0, 16.0, 16.0, 16.0, 25.0, 20.0, 14.0, 14.0, 14.0, 16.0, 15.0, 24.0, 15.0, 15.0, 14.0, 19.0, 15.0, 14.0, 14.0, 15.0, 11.0, 12.0, 13.0, 19.0, 43.0, 12.0, 12.0, 12.0, 18.0, 17.0, 17.0, 20.0, 13.0, 17.0, 18.0, 23.0, 13.0, 15.0, 25.0, 13.0, 21.0, 14.0, 17.0, 17.0, 19.0, 20.0, 14.0, 14.0, 16.0, 12.0, 18.0, 16.0, 16.0, 12.0, 16.0, 15.0, 17.0, 15.0, 28.0, 12.0, 18.0, 17.0, 13.0, 15.0, 17.0, 13.0, 13.0, 13.0, 19.0, 13.0, 15.0, 13.0, 16.0, 19.0, 13.0, 14.0, 28.0, 20.0, 12.0, 14.0, 12.0, 14.0, 13.0, 20.0, 20.0, 15.0, 24.0, 13.0, 13.0, 12.0, 17.0, 15.0, 13.0, 15.0, 13.0, 15.0, 30.0, 12.0, 13.0, 15.0, 14.0, 12.0, 13.0, 11.0, 15.0, 12.0, 12.0, 12.0, 13.0, 15.0, 15.0, 12.0, 14.0, 12.0, 12.0, 14.0, 13.0, 21.0, 13.0, 12.0, 13.0, 15.0, 14.0, 15.0, 12.0, 14.0, 16.0, 18.0, 14.0, 13.0, 14.0, 19.0, 15.0, 12.0, 17.0, 16.0, 16.0, 11.0, 14.0, 13.0, 20.0, 13.0, 17.0, 17.0, 12.0, 16.0, 12.0, 13.0, 14.0, 14.0, 14.0, 17.0, 16.0, 17.0, 14.0, 17.0, 13.0, 12.0, 18.0, 14.0, 11.0, 11.0, 14.0, 12.0, 12.0, 13.0, 14.0, 14.0, 11.0, 14.0, 12.0, 14.0, 13.0, 13.0, 14.0, 11.0, 14.0, 19.0, 12.0, 17.0, 14.0, 15.0, 17.0, 15.0, 14.0, 12.0, 12.0, 16.0, 13.0, 13.0, 15.0, 12.0, 11.0, 14.0, 12.0, 13.0, 14.0, 12.0, 13.0, 16.0, 18.0, 15.0, 14.0, 14.0, 11.0, 14.0, 13.0, 14.0, 15.0, 14.0, 13.0, 11.0, 13.0, 14.0, 15.0, 15.0, 12.0, 17.0, 11.0, 17.0, 15.0, 18.0, 16.0, 14.0, 14.0, 13.0, 15.0, 16.0, 12.0, 11.0, 14.0, 11.0, 15.0, 14.0, 14.0, 17.0, 17.0, 13.0, 11.0, 21.0, 16.0, 13.0, 14.0, 12.0, 20.0, 16.0, 17.0, 19.0, 18.0, 18.0, 12.0, 15.0, 18.0, 14.0, 18.0, 13.0, 15.0, 13.0, 17.0, 17.0, 14.0, 19.0, 13.0, 18.0, 21.0, 16.0, 15.0, 15.0, 12.0, 13.0, 20.0, 19.0, 18.0, 15.0, 17.0, 21.0, 21.0, 13.0, 18.0, 17.0, 21.0, 16.0, 16.0, 17.0, 15.0, 14.0, 18.0, 12.0, 15.0, 22.0, 20.0, 16.0, 23.0, 17.0, 18.0, 12.0, 17.0, 16.0, 14.0, 15.0, 24.0, 14.0, 22.0, 17.0, 13.0, 19.0, 17.0, 18.0, 20.0, 16.0, 16.0, 20.0, 19.0, 14.0, 18.0, 16.0, 15.0, 25.0, 17.0, 14.0, 15.0, 16.0, 18.0, 14.0, 23.0, 15.0, 13.0, 16.0, 14.0, 34.0, 15.0, 15.0, 13.0, 17.0, 17.0, 31.0, 12.0, 15.0, 21.0, 32.0, 13.0, 19.0, 15.0, 20.0, 15.0, 19.0, 19.0, 16.0, 15.0, 15.0, 14.0, 31.0, 24.0, 20.0, 35.0, 15.0, 22.0, 20.0, 15.0, 19.0, 20.0, 19.0, 17.0, 23.0, 18.0, 20.0, 21.0, 16.0, 23.0, 16.0, 21.0, 14.0, 21.0, 18.0, 23.0, 21.0, 16.0, 21.0, 21.0, 16.0, 23.0, 15.0, 15.0, 15.0, 15.0, 20.0, 19.0, 23.0, 23.0, 20.0, 20.0, 21.0, 17.0, 24.0, 18.0, 26.0, 22.0, 16.0, 17.0, 21.0, 22.0, 22.0, 27.0, 20.0, 19.0, 21.0, 20.0, 18.0, 21.0, 17.0, 15.0, 17.0, 22.0, 17.0, 17.0, 22.0, 22.0, 17.0, 24.0, 14.0, 13.0, 15.0, 23.0, 21.0, 19.0, 15.0, 15.0, 17.0, 23.0, 20.0, 16.0, 14.0, 15.0, 19.0, 22.0, 18.0, 18.0, 27.0, 16.0, 21.0, 14.0, 17.0, 17.0, 17.0, 23.0, 19.0, 19.0, 28.0, 19.0, 25.0, 19.0, 17.0, 16.0, 23.0, 18.0, 18.0, 21.0, 22.0, 26.0, 19.0, 54.0, 41.0, 19.0, 17.0, 38.0, 22.0, 40.0, 42.0, 90.0, 47.0, 17.0, 16.0, 43.0, 52.0, 22.0, 44.0, 45.0, 40.0, 42.0, 18.0, 46.0, 40.0, 43.0, 43.0, 41.0, 43.0, 45.0, 45.0, 40.0, 74.0, 209.0, 43.0, 42.0, 22.0, 15.0, 17.0, 15.0, 40.0, 32.0, 86.0, 42.0, 36.0, 78.0, 13.0, 91.0, 35.0, 77.0, 64.0, 38.0, 65.0, 34.0, 65.0, 34.0, 43.0, 35.0, 67.0, 33.0, 30.0, 59.0, 37.0, 60.0, 57.0, 64.0, 103.0, 70.0, 40.0, 115.0, 111.0, 113.0, 63.0, 126.0, 122.0, 242.0, 34.0, 77.0, 103.0, 70.0, 31.0, 32.0, 18.0, 64.0, 55.0, 56.0, 132.0, 54.0, 35.0, 61.0, 59.0, 51.0, 37.0, 60.0, 32.0, 16.0, 53.0, 135.0, 31.0, 81.0, 193.0, 104.0, 114.0, 328.0, 312.0, 80.0, 241.0, 57.0, 59.0, 112.0, 146.0, 249.0, 198.0, 140.0, 190.0, 83.0, 174.0, 76.0, 378.0, 262.0, 212.0, 226.0, 266.0, 169.0, 166.0, 253.0, 203.0, 182.0, 184.0, 191.0, 256.0, 260.0, 246.0, 216.0, 248.0, 218.0, 252.0, 208.0, 187.0, 202.0, 247.0, 202.0, 201.0, 304.0, 194.0, 258.0, 262.0, 194.0, 225.0, 196.0, 212.0, 303.0, 283.0, 251.0, 211.0, 198.0, 309.0, 358.0, 249.0, 260.0, 258.0, 280.0, 422.0, 436.0, 368.0, 269.0, 371.0, 390.0, 223.0, 254.0, 221.0, 72.0, 160.0, 53.0, 209.0, 20.0, 441.0, 146.0, 190.0, 283.0, 279.0, 292.0, 244.0, 223.0, 280.0], (0, 10, 9.8, 10.0): [156.0, 217.0, 120.0, 114.0, 150.0, 124.0, 135.0, 71.0, 119.0, 197.0, 114.0, 151.0, 113.0, 96.0, 98.0, 127.0, 77.0, 198.0, 151.0, 116.0, 100.0, 217.0, 143.0, 142.0, 117.0, 66.0, 210.0, 230.0, 67.0, 90.0, 93.0, 170.0, 210.0, 79.0, 222.0, 115.0, 53.0, 165.0, 102.0, 103.0, 110.0, 127.0, 71.0, 98.0, 112.0, 80.0, 92.0, 80.0, 112.0, 109.0, 43.0, 78.0, 164.0, 202.0, 81.0, 111.0, 74.0, 111.0, 122.0, 248.0, 198.0, 95.0, 88.0, 101.0, 126.0, 248.0, 95.0, 92.0, 107.0, 86.0, 91.0, 82.0, 94.0, 137.0, 70.0, 134.0, 80.0, 190.0, 95.0, 176.0, 167.0, 127.0, 108.0, 107.0, 129.0, 68.0, 69.0, 101.0, 66.0, 71.0, 81.0, 155.0, 149.0, 168.0, 80.0, 165.0, 169.0, 85.0, 72.0, 62.0, 76.0, 150.0, 106.0, 59.0, 122.0, 82.0, 166.0, 112.0, 142.0, 114.0, 91.0, 122.0, 107.0, 177.0, 79.0, 90.0, 129.0, 93.0, 186.0, 205.0, 88.0, 117.0, 121.0, 48.0, 94.0, 92.0, 94.0, 165.0, 86.0, 114.0, 193.0, 99.0, 154.0, 145.0, 160.0, 130.0, 103.0, 73.0, 118.0, 120.0, 89.0, 74.0, 58.0, 179.0, 68.0, 108.0, 115.0, 217.0, 117.0, 144.0, 208.0, 86.0, 146.0, 243.0, 139.0, 127.0, 113.0, 223.0, 57.0, 169.0, 89.0, 115.0, 151.0, 82.0, 340.0, 192.0, 128.0, 153.0, 141.0, 169.0, 98.0, 173.0, 121.0, 99.0, 93.0, 157.0, 111.0, 60.0, 100.0, 120.0, 60.0, 94.0, 78.0, 119.0, 63.0, 144.0, 152.0, 159.0, 120.0, 101.0, 119.0, 164.0, 107.0, 105.0, 66.0, 100.0, 77.0, 103.0, 84.0, 98.0, 98.0, 129.0, 115.0, 106.0, 109.0, 98.0, 97.0, 128.0, 62.0, 115.0, 79.0, 129.0, 123.0, 86.0, 164.0, 104.0, 128.0, 105.0, 180.0, 167.0, 356.0, 250.0, 201.0, 192.0, 168.0, 104.0, 378.0, 202.0, 72.0, 189.0, 172.0, 246.0, 157.0, 112.0, 224.0, 155.0, 215.0, 82.0, 56.0, 121.0, 114.0, 198.0, 71.0, 85.0, 64.0, 67.0, 86.0, 79.0, 103.0, 81.0, 85.0, 89.0, 70.0, 79.0, 59.0, 92.0, 75.0, 45.0, 69.0, 92.0, 66.0, 79.0, 110.0, 113.0, 83.0, 79.0, 82.0, 75.0, 62.0, 77.0, 55.0, 111.0, 49.0, 126.0, 135.0, 206.0, 228.0, 209.0, 156.0, 51.0, 229.0, 161.0, 174.0, 147.0, 365.0, 304.0, 160.0, 107.0, 221.0, 86.0, 82.0, 64.0, 109.0, 163.0, 301.0, 169.0, 134.0, 192.0, 121.0, 235.0, 299.0, 140.0, 123.0, 93.0, 108.0, 92.0, 196.0, 87.0, 96.0, 106.0, 90.0, 92.0, 100.0, 111.0, 96.0, 85.0, 207.0, 88.0, 178.0, 95.0, 123.0, 156.0, 149.0, 218.0, 94.0, 166.0, 131.0, 153.0, 194.0, 156.0, 210.0, 66.0, 62.0, 92.0, 159.0, 120.0, 116.0, 136.0, 156.0, 124.0, 116.0, 98.0, 116.0, 101.0, 106.0, 172.0, 158.0, 125.0, 129.0, 94.0, 81.0, 112.0, 125.0, 122.0, 126.0, 149.0, 120.0, 197.0, 134.0, 255.0, 230.0, 165.0, 201.0, 150.0, 125.0, 131.0, 90.0, 188.0, 245.0, 151.0, 204.0, 125.0, 146.0, 156.0, 222.0, 180.0, 255.0, 93.0, 128.0, 126.0, 129.0, 97.0, 140.0, 174.0, 98.0, 125.0, 86.0, 88.0, 120.0, 113.0, 111.0, 207.0, 222.0, 238.0, 138.0, 168.0, 166.0, 123.0, 107.0, 143.0, 58.0, 218.0, 254.0, 76.0, 334.0, 310.0, 125.0, 84.0, 136.0, 112.0, 170.0, 155.0, 127.0, 149.0, 294.0, 141.0, 116.0, 139.0, 232.0, 159.0, 107.0, 147.0, 142.0, 117.0, 93.0, 214.0, 66.0, 107.0, 68.0, 101.0, 140.0, 114.0, 128.0, 105.0, 336.0, 62.0, 102.0, 66.0, 157.0, 153.0, 322.0, 286.0, 78.0, 123.0, 118.0, 231.0, 224.0, 73.0, 74.0, 62.0, 107.0, 181.0, 78.0, 123.0, 60.0, 150.0, 79.0, 259.0, 102.0, 236.0, 64.0, 283.0, 71.0, 80.0, 130.0, 148.0, 59.0, 138.0, 165.0, 204.0, 330.0, 226.0, 159.0, 45.0, 501.0, 151.0, 219.0, 160.0, 164.0, 455.0, 218.0, 181.0, 140.0, 287.0, 150.0, 245.0, 183.0, 169.0, 260.0, 56.0, 181.0, 247.0, 114.0, 37.0, 144.0, 213.0, 365.0, 42.0, 310.0, 312.0, 333.0, 186.0, 270.0, 296.0, 206.0, 149.0, 37.0, 170.0, 57.0, 266.0, 241.0, 165.0, 124.0, 350.0, 108.0, 199.0, 90.0, 145.0, 234.0, 104.0, 135.0, 223.0, 186.0, 115.0, 315.0, 216.0, 163.0, 318.0, 141.0, 134.0, 130.0, 113.0, 134.0, 118.0, 146.0, 159.0, 229.0, 262.0, 127.0, 115.0, 227.0, 132.0, 101.0, 305.0, 189.0, 103.0, 117.0, 226.0, 120.0, 104.0, 199.0, 144.0, 94.0, 245.0, 146.0, 102.0, 149.0, 98.0, 103.0, 204.0, 145.0, 264.0, 239.0, 108.0, 179.0, 120.0, 212.0, 88.0, 309.0, 157.0, 111.0, 185.0, 255.0, 162.0, 140.0, 160.0, 156.0, 101.0, 121.0, 200.0, 191.0, 129.0, 142.0, 78.0, 79.0, 150.0, 194.0, 138.0, 135.0, 73.0, 116.0, 178.0, 170.0, 115.0, 104.0, 89.0, 331.0, 161.0, 104.0, 127.0, 219.0, 108.0, 234.0, 108.0, 112.0, 140.0, 250.0, 240.0, 409.0, 149.0, 247.0, 99.0, 103.0, 89.0, 223.0, 217.0, 93.0, 134.0, 155.0, 137.0, 209.0, 209.0, 133.0, 168.0, 87.0, 184.0, 130.0, 302.0, 113.0, 165.0, 170.0, 108.0, 102.0, 102.0, 162.0, 82.0, 185.0, 242.0, 117.0, 96.0, 186.0, 135.0, 169.0, 88.0, 389.0, 191.0, 547.0, 110.0, 319.0, 165.0, 155.0, 168.0, 113.0, 201.0, 121.0, 170.0, 145.0, 161.0, 137.0, 190.0, 123.0, 87.0, 126.0, 182.0, 147.0, 85.0, 193.0, 97.0, 140.0, 115.0, 87.0, 189.0, 202.0, 152.0, 280.0, 91.0, 92.0, 144.0, 225.0, 112.0, 148.0, 207.0, 154.0, 158.0, 115.0, 91.0, 102.0, 98.0, 167.0, 156.0, 263.0, 75.0, 79.0, 130.0, 133.0, 179.0, 134.0, 96.0, 109.0, 190.0, 117.0, 100.0, 213.0, 132.0, 191.0, 110.0, 154.0, 110.0, 158.0, 292.0, 123.0, 126.0, 200.0, 152.0, 106.0, 100.0, 87.0, 260.0, 263.0, 130.0, 174.0, 100.0, 169.0, 215.0, 108.0, 127.0, 151.0, 173.0, 140.0, 143.0, 106.0, 158.0, 233.0, 87.0, 159.0, 90.0, 288.0, 122.0, 175.0, 137.0, 151.0, 132.0, 119.0, 188.0, 152.0, 163.0, 297.0, 203.0, 147.0, 187.0, 121.0, 197.0, 198.0, 435.0, 208.0, 238.0, 231.0, 175.0, 138.0, 372.0, 251.0, 130.0, 145.0, 143.0, 230.0, 172.0, 168.0, 182.0, 216.0, 257.0, 150.0, 208.0, 303.0, 427.0, 393.0, 190.0, 130.0, 165.0, 221.0, 211.0, 219.0, 152.0, 244.0, 144.0, 153.0, 132.0, 142.0, 192.0, 186.0, 181.0, 180.0, 135.0, 136.0, 207.0, 317.0, 208.0, 152.0, 119.0, 114.0, 149.0, 160.0, 149.0, 163.0, 164.0, 167.0, 209.0, 133.0, 178.0, 150.0, 136.0, 289.0, 208.0, 288.0, 171.0, 209.0, 380.0, 227.0, 345.0, 166.0, 269.0, 209.0, 269.0, 164.0, 154.0, 120.0, 318.0, 326.0, 160.0, 160.0, 135.0, 163.0, 164.0, 268.0, 152.0, 139.0, 130.0, 166.0, 130.0, 184.0, 210.0, 183.0, 262.0, 304.0], (0, 100, 9.8, 10.0): [206.0]}\n"
     ]
    }
   ],
   "source": [
    "print(scores)"
   ]
  },
  {
   "cell_type": "code",
   "execution_count": 8,
   "metadata": {},
   "outputs": [
    {
     "name": "stdout",
     "output_type": "stream",
     "text": [
      "{(0, 1, 9.8, 10.0): [<__main__.Queue object at 0x7f6763f0afd0>], (0, 10, 9.8, 10.0): [<__main__.Queue object at 0x7f6763f0af60>, <__main__.Queue object at 0x7f6763f0acf8>], (0, 100, 9.8, 10.0): [<__main__.Queue object at 0x7f6763f0ae48>, <__main__.Queue object at 0x7f6763f0a748>, <__main__.Queue object at 0x7f6763f0a8d0>]}\n"
     ]
    }
   ],
   "source": [
    "print(test_scores)"
   ]
  },
  {
   "cell_type": "markdown",
   "metadata": {},
   "source": [
    "<h3>Save params</h3>"
   ]
  },
  {
   "cell_type": "markdown",
   "metadata": {},
   "source": [
    "Training error"
   ]
  },
  {
   "cell_type": "code",
   "execution_count": 9,
   "metadata": {},
   "outputs": [],
   "source": [
    "columns = [\"Seed\", \"Gravity\", \"Length\", \"Force_mag\", \"Episode\", \"Score\"]\n",
    "df = pd.DataFrame(columns = columns)\n",
    "for param in scores.keys():\n",
    "    values = scores[param]\n",
    "    liste = []\n",
    "\n",
    "    for i in range(len(values)):\n",
    "        liste.append([param[0], param[1], param[2],param[3], i, values[i]])\n",
    "    df2 = pd.DataFrame(data = liste, columns = columns)\n",
    "    df = pd.concat([df,df2])\n",
    "    df.reset_index()\n",
    "path= \"results/length_v1.csv\"\n",
    "df.to_csv(path)"
   ]
  },
  {
   "cell_type": "markdown",
   "metadata": {},
   "source": [
    "Test error"
   ]
  },
  {
   "cell_type": "code",
   "execution_count": 10,
   "metadata": {},
   "outputs": [
    {
     "ename": "KeyError",
     "evalue": "-1",
     "output_type": "error",
     "traceback": [
      "\u001b[0;31m---------------------------------------------------------------------------\u001b[0m",
      "\u001b[0;31mKeyError\u001b[0m                                  Traceback (most recent call last)",
      "\u001b[0;32m<ipython-input-10-915ca3650c39>\u001b[0m in \u001b[0;36m<module>\u001b[0;34m\u001b[0m\n\u001b[0;32m----> 1\u001b[0;31m \u001b[0mscore_list\u001b[0m \u001b[0;34m=\u001b[0m \u001b[0;34m[\u001b[0m\u001b[0mnp\u001b[0m\u001b[0;34m.\u001b[0m\u001b[0marray\u001b[0m\u001b[0;34m(\u001b[0m\u001b[0mlist\u001b[0m\u001b[0;34m(\u001b[0m\u001b[0mtest_scores\u001b[0m\u001b[0;34m[\u001b[0m\u001b[0;34m-\u001b[0m\u001b[0;36m1\u001b[0m\u001b[0;34m]\u001b[0m\u001b[0;34m.\u001b[0m\u001b[0mkeys\u001b[0m\u001b[0;34m(\u001b[0m\u001b[0;34m)\u001b[0m\u001b[0;34m)\u001b[0m\u001b[0;34m)\u001b[0m\u001b[0;34m]\u001b[0m\u001b[0;34m\u001b[0m\u001b[0;34m\u001b[0m\u001b[0m\n\u001b[0m\u001b[1;32m      2\u001b[0m \u001b[0;32mfor\u001b[0m \u001b[0mtest_score\u001b[0m \u001b[0;32min\u001b[0m \u001b[0mtest_scores\u001b[0m\u001b[0;34m:\u001b[0m\u001b[0;34m\u001b[0m\u001b[0;34m\u001b[0m\u001b[0m\n\u001b[1;32m      3\u001b[0m     \u001b[0mscore_list\u001b[0m\u001b[0;34m.\u001b[0m\u001b[0mappend\u001b[0m\u001b[0;34m(\u001b[0m\u001b[0mnp\u001b[0m\u001b[0;34m.\u001b[0m\u001b[0marray\u001b[0m\u001b[0;34m(\u001b[0m\u001b[0mlist\u001b[0m\u001b[0;34m(\u001b[0m\u001b[0mtest_score\u001b[0m\u001b[0;34m.\u001b[0m\u001b[0mvalues\u001b[0m\u001b[0;34m(\u001b[0m\u001b[0;34m)\u001b[0m\u001b[0;34m)\u001b[0m\u001b[0;34m)\u001b[0m\u001b[0;34m)\u001b[0m\u001b[0;34m\u001b[0m\u001b[0;34m\u001b[0m\u001b[0m\n\u001b[1;32m      4\u001b[0m \u001b[0mscores\u001b[0m\u001b[0;34m=\u001b[0m \u001b[0mnp\u001b[0m\u001b[0;34m.\u001b[0m\u001b[0marray\u001b[0m\u001b[0;34m(\u001b[0m\u001b[0mscore_list\u001b[0m\u001b[0;34m)\u001b[0m\u001b[0;34m\u001b[0m\u001b[0;34m\u001b[0m\u001b[0m\n\u001b[1;32m      5\u001b[0m \u001b[0mprint\u001b[0m\u001b[0;34m(\u001b[0m\u001b[0mscores\u001b[0m\u001b[0;34m)\u001b[0m\u001b[0;34m\u001b[0m\u001b[0;34m\u001b[0m\u001b[0m\n",
      "\u001b[0;31mKeyError\u001b[0m: -1"
     ]
    }
   ],
   "source": [
    "score_list = [np.array(list(test_scores[-1].keys()))]\n",
    "for test_score in test_scores:\n",
    "    score_list.append(np.array(list(test_score.values())))\n",
    "scores= np.array(score_list)\n",
    "print(scores)\n",
    "path= \"results/force_mag_v0.npy\"\n",
    "np.save(path, scores)"
   ]
  },
  {
   "cell_type": "code",
   "execution_count": null,
   "metadata": {},
   "outputs": [],
   "source": [
    "offset = 0\n",
    "plt.clf()\n",
    "\n",
    "fig , ax = plt.subplots(1, len(params), figsize=(20,10))\n",
    "#concatenated_score = []\n",
    "#concatenated_index = []\n",
    "for task_id, score in enumerate(scores):\n",
    "    #concatenated_score += score\n",
    "    #concatenated_index += list(np.array([i for i in range(len(score))]) + offset)\n",
    "    episode = np.array([i for i in range(len(score))])\n",
    "    offseted_episode = list(episode + offset)\n",
    "    ax[task_id].plot(episode, score)\n",
    "    offset += len(score)\n",
    "    ax[task_id].set_ylim([0,300])\n",
    "    ax[task_id].set_title(\"Task n°{} (Length: {})\".format(task_id, params[task_id]))\n",
    "ax[0].set_ylabel(\"Score\")\n"
   ]
  },
  {
   "cell_type": "code",
   "execution_count": null,
   "metadata": {},
   "outputs": [],
   "source": []
  },
  {
   "cell_type": "code",
   "execution_count": null,
   "metadata": {},
   "outputs": [],
   "source": []
  }
 ],
 "metadata": {
  "kernelspec": {
   "display_name": "Python 3",
   "language": "python",
   "name": "python3"
  },
  "language_info": {
   "codemirror_mode": {
    "name": "ipython",
    "version": 3
   },
   "file_extension": ".py",
   "mimetype": "text/x-python",
   "name": "python",
   "nbconvert_exporter": "python",
   "pygments_lexer": "ipython3",
   "version": "3.6.7"
  }
 },
 "nbformat": 4,
 "nbformat_minor": 2
}
