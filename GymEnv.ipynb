{
 "cells": [
  {
   "cell_type": "code",
   "execution_count": 1,
   "metadata": {},
   "outputs": [],
   "source": [
    "import numpy as np\n",
    "import random\n",
    "import torch\n",
    "import numpy as np\n",
    "from collections import deque\n",
    "from itertools import product\n",
    "import pandas as pd\n",
    "import matplotlib.pyplot as plt\n",
    "from agents.q_learner import Q_learner\n",
    "from utils.cartpole import CartPoleEnv\n",
    "%matplotlib inline\n"
   ]
  },
  {
   "cell_type": "code",
   "execution_count": 2,
   "metadata": {},
   "outputs": [],
   "source": [
    "args = dict()\n",
    "args[\"BUFFER_SIZE\"] = int(500)  # replay buffer size\n",
    "args[\"BATCH_SIZE\"] = 32  # minibatch size\n",
    "args[\"GAMMA\"] = 0.95  # discount factor\n",
    "args[\"TAU\"] = 1e-3  # for soft update of target parameters\n",
    "args[\"LR\"] = 0.001  # learning rate\n",
    "args[\"UPDATE_EVERY\"] = 4  # how often to update the network\n",
    "\n",
    "env_name = 'CartPole-v1'\n",
    "\n",
    "def my_product(inp):\n",
    "    return (dict(zip(inp.keys(), values)) for values in product(*inp.values()))"
   ]
  },
  {
   "cell_type": "code",
   "execution_count": 3,
   "metadata": {},
   "outputs": [],
   "source": [
    "class Task_Wrapper():\n",
    "    def __init__(self, env_name, params):\n",
    "        self.env_name = env_name\n",
    "        self.params = list(my_product(params))\n",
    "        self.current_param = 0\n",
    "        self.seed = seed\n",
    "        \n",
    "    def next_task(self):\n",
    "        params = self.params[self.current_param]\n",
    "        env = CartPoleEnv(**params)\n",
    "        env.seed(self.seed)\n",
    "        self.current_param-=1\n",
    "        return env \n",
    "        "
   ]
  },
  {
   "cell_type": "code",
   "execution_count": 4,
   "metadata": {},
   "outputs": [],
   "source": [
    "def dqn(env, agent = None, n_episodes=10000, max_t=1000, eps_start=1, eps_end=0.01, eps_decay=0.995):\n",
    "\n",
    "    scores = []                        # list containing scores from each episode\n",
    "    scores_window = deque(maxlen=100)  # last 100 scores\n",
    "    eps = eps_start                    # initialize epsilon\n",
    "    for i_episode in range(1, n_episodes+1):\n",
    "        state = env.reset()\n",
    "        score = 0\n",
    "        for t in range(max_t):\n",
    "            action = agent.act(state, eps)\n",
    "            next_state, reward, done, _ = env.step(action)\n",
    "            agent.step(state, action, reward, next_state, done)\n",
    "            state = next_state\n",
    "            score += reward\n",
    "            if done:\n",
    "                break \n",
    "        scores_window.append(score)       # save most recent score\n",
    "        scores.append(score)              # save most recent score\n",
    "        eps = max(eps_end, eps_decay*eps) # decrease epsilon\n",
    "        \n",
    "        print('\\rEpisode {}\\tAverage Score: {:.2f}'.format(i_episode, np.mean(scores_window)), end=\"\")\n",
    "        if i_episode % 100 == 0:\n",
    "            print('\\rEpisode {}\\tAverage Score: {:.2f}'.format(i_episode, np.mean(scores_window)))\n",
    "        if np.mean(scores_window)>=200.0:\n",
    "            print('\\nEnvironment solved in {:d} episodes!\\tAverage Score: {:.2f}'.format(i_episode-100, np.mean(scores_window)))\n",
    "            torch.save(agent.qnetwork_local.state_dict(), 'models/checkpoints/checkpoint.pth')\n",
    "            break\n",
    "    return scores\n",
    "\n",
    "def test_dqn(env, agent = None, n_episodes=100, max_t=1000):\n",
    "    scores = []                        # list containing scores from each episode\n",
    "    for i_episode in range(1, n_episodes+1):\n",
    "        state = env.reset()\n",
    "        score = 0\n",
    "        for t in range(max_t):\n",
    "            action = agent.act(state, 0)\n",
    "            next_state, reward, done, _ = env.step(action)\n",
    "            state = next_state\n",
    "            score += reward\n",
    "            if done:\n",
    "                break \n",
    "        scores.append(score)              # save most recent score\n",
    "    return scores"
   ]
  },
  {
   "cell_type": "code",
   "execution_count": 5,
   "metadata": {},
   "outputs": [
    {
     "name": "stdout",
     "output_type": "stream",
     "text": [
      "{'seed': 0, 'length': 0.2}\n",
      "Episode 100\tAverage Score: 19.18\n",
      "Episode 200\tAverage Score: 15.71\n",
      "Episode 300\tAverage Score: 11.78\n",
      "Episode 400\tAverage Score: 12.12\n",
      "Episode 500\tAverage Score: 10.89\n",
      "Episode 600\tAverage Score: 9.682\n",
      "Episode 700\tAverage Score: 9.85\n",
      "Episode 800\tAverage Score: 12.00\n",
      "Episode 900\tAverage Score: 15.60\n",
      "Episode 1000\tAverage Score: 44.90\n",
      "Episode 1076\tAverage Score: 200.14\n",
      "Environment solved in 976 episodes!\tAverage Score: 200.14\n",
      "{'seed': 0, 'length': 1}\n",
      "Episode 100\tAverage Score: 23.23\n",
      "Episode 200\tAverage Score: 58.70\n",
      "Episode 300\tAverage Score: 120.08\n",
      "Episode 400\tAverage Score: 168.83\n",
      "Episode 500\tAverage Score: 158.93\n",
      "Episode 588\tAverage Score: 200.29\n",
      "Environment solved in 488 episodes!\tAverage Score: 200.29\n",
      "{'seed': 0, 'length': 0.5}\n",
      "Episode 100\tAverage Score: 29.62\n",
      "Episode 200\tAverage Score: 34.94\n",
      "Episode 300\tAverage Score: 36.45\n",
      "Episode 400\tAverage Score: 114.97\n",
      "Episode 500\tAverage Score: 130.66\n",
      "Episode 600\tAverage Score: 121.50\n",
      "Episode 700\tAverage Score: 148.75\n",
      "Episode 800\tAverage Score: 165.43\n",
      "Episode 900\tAverage Score: 166.87\n",
      "Episode 1000\tAverage Score: 181.75\n",
      "Episode 1100\tAverage Score: 180.79\n",
      "Episode 1140\tAverage Score: 200.94\n",
      "Environment solved in 1040 episodes!\tAverage Score: 200.94\n"
     ]
    }
   ],
   "source": [
    "params = {\"seed\": [0],#[i for i in range(3)],\n",
    "          \"length\" : [0.5, 1, 0.2]\n",
    "         }\n",
    "agent = Q_learner(state_size=4, action_size=2, seed=0, hiddens = [100,100], args = args)\n",
    "seed = 0\n",
    "task_wrapper = Task_Wrapper(env_name,params)\n",
    "scores = dict()\n",
    "test_scores = []\n",
    "for task_id in range(len(task_wrapper.params)):\n",
    "    env = task_wrapper.next_task()\n",
    "    param = task_wrapper.params[task_wrapper.current_param]\n",
    "    print(param)\n",
    "    param_list = []\n",
    "    if \"seed\" not in param.keys():\n",
    "        param_list += [0]\n",
    "    else:\n",
    "        param_list += [param[\"seed\"]]\n",
    "    if \"length\" not in param.keys():\n",
    "        param_list += [0.5]\n",
    "    else:\n",
    "        param_list += [param[\"length\"]]\n",
    "    if \"gravity\" not in param.keys():\n",
    "        param_list += [9.8]\n",
    "    else:\n",
    "        param_list += [param[\"gravity\"]]\n",
    "    scores[tuple(param_list)] = dqn(env, agent)\n",
    "    \n",
    "    test_scores_i = []\n",
    "    for i in range(task_id):\n",
    "        test_scores_i.append(test_dqn(env, agent))\n",
    "        \n",
    "columns = [\"Seed\", \"Gravity\", \"Length\", \"Episode\", \"Score\"]\n",
    "df = pd.DataFrame(columns = columns)\n",
    "for param in scores.keys():\n",
    "    values = scores[param]\n",
    "    liste = []\n",
    "\n",
    "    for i in range(len(values)):\n",
    "        liste.append([param[0], param[1], param[2], i, values[i]])\n",
    "    df2 = pd.DataFrame(data = liste, columns = columns)\n",
    "    df = df.append(df2)\n",
    "    df.reset_index()\n",
    "path= \"results/v0.csv\"\n",
    "df.to_csv(path)"
   ]
  },
  {
   "cell_type": "code",
   "execution_count": 6,
   "metadata": {},
   "outputs": [
    {
     "ename": "KeyError",
     "evalue": "0",
     "output_type": "error",
     "traceback": [
      "\u001b[0;31m---------------------------------------------------------------------------\u001b[0m",
      "\u001b[0;31mKeyError\u001b[0m                                  Traceback (most recent call last)",
      "\u001b[0;32m<ipython-input-6-6029510c4517>\u001b[0m in \u001b[0;36m<module>\u001b[0;34m\u001b[0m\n\u001b[1;32m     13\u001b[0m     \u001b[0moffset\u001b[0m \u001b[0;34m+=\u001b[0m \u001b[0mlen\u001b[0m\u001b[0;34m(\u001b[0m\u001b[0mscore\u001b[0m\u001b[0;34m)\u001b[0m\u001b[0;34m\u001b[0m\u001b[0;34m\u001b[0m\u001b[0m\n\u001b[1;32m     14\u001b[0m     \u001b[0max\u001b[0m\u001b[0;34m[\u001b[0m\u001b[0mtask_id\u001b[0m\u001b[0;34m]\u001b[0m\u001b[0;34m.\u001b[0m\u001b[0mset_ylim\u001b[0m\u001b[0;34m(\u001b[0m\u001b[0;34m[\u001b[0m\u001b[0;36m0\u001b[0m\u001b[0;34m,\u001b[0m\u001b[0;36m300\u001b[0m\u001b[0;34m]\u001b[0m\u001b[0;34m)\u001b[0m\u001b[0;34m\u001b[0m\u001b[0;34m\u001b[0m\u001b[0m\n\u001b[0;32m---> 15\u001b[0;31m     \u001b[0max\u001b[0m\u001b[0;34m[\u001b[0m\u001b[0mtask_id\u001b[0m\u001b[0;34m]\u001b[0m\u001b[0;34m.\u001b[0m\u001b[0mset_title\u001b[0m\u001b[0;34m(\u001b[0m\u001b[0;34m\"Task n°{} (Length: {})\"\u001b[0m\u001b[0;34m.\u001b[0m\u001b[0mformat\u001b[0m\u001b[0;34m(\u001b[0m\u001b[0mtask_id\u001b[0m\u001b[0;34m,\u001b[0m \u001b[0mparams\u001b[0m\u001b[0;34m[\u001b[0m\u001b[0mtask_id\u001b[0m\u001b[0;34m]\u001b[0m\u001b[0;34m)\u001b[0m\u001b[0;34m)\u001b[0m\u001b[0;34m\u001b[0m\u001b[0;34m\u001b[0m\u001b[0m\n\u001b[0m\u001b[1;32m     16\u001b[0m \u001b[0max\u001b[0m\u001b[0;34m[\u001b[0m\u001b[0;36m0\u001b[0m\u001b[0;34m]\u001b[0m\u001b[0;34m.\u001b[0m\u001b[0mset_ylabel\u001b[0m\u001b[0;34m(\u001b[0m\u001b[0;34m\"Score\"\u001b[0m\u001b[0;34m)\u001b[0m\u001b[0;34m\u001b[0m\u001b[0;34m\u001b[0m\u001b[0m\n",
      "\u001b[0;31mKeyError\u001b[0m: 0"
     ]
    },
    {
     "data": {
      "text/plain": [
       "<Figure size 432x288 with 0 Axes>"
      ]
     },
     "metadata": {},
     "output_type": "display_data"
    },
    {
     "data": {
      "image/png": "[encoded data removed]",
      "text/plain": [
       "<Figure size 1440x720 with 2 Axes>"
      ]
     },
     "metadata": {
      "needs_background": "light"
     },
     "output_type": "display_data"
    }
   ],
   "source": [
    "offset = 0\n",
    "plt.clf()\n",
    "\n",
    "fig , ax = plt.subplots(1, len(params), figsize=(20,10))\n",
    "#concatenated_score = []\n",
    "#concatenated_index = []\n",
    "for task_id, score in enumerate(scores):\n",
    "    #concatenated_score += score\n",
    "    #concatenated_index += list(np.array([i for i in range(len(score))]) + offset)\n",
    "    episode = np.array([i for i in range(len(score))])\n",
    "    offseted_episode = list(episode + offset)\n",
    "    ax[task_id].plot(episode, score)\n",
    "    offset += len(score)\n",
    "    ax[task_id].set_ylim([0,300])\n",
    "    ax[task_id].set_title(\"Task n°{} (Length: {})\".format(task_id, params[task_id]))\n",
    "ax[0].set_ylabel(\"Score\")\n"
   ]
  },
  {
   "cell_type": "code",
   "execution_count": 7,
   "metadata": {},
   "outputs": [
    {
     "name": "stdout",
     "output_type": "stream",
     "text": [
      "      Unnamed: 0  Seed  Gravity  Length  Episode  Score\n",
      "0              0     0      0.2     9.8        0   14.0\n",
      "1              1     0      0.2     9.8        1   16.0\n",
      "2              2     0      0.2     9.8        2   28.0\n",
      "3              3     0      0.2     9.8        3   18.0\n",
      "4              4     0      0.2     9.8        4   10.0\n",
      "5              5     0      0.2     9.8        5   18.0\n",
      "6              6     0      0.2     9.8        6   73.0\n",
      "7              7     0      0.2     9.8        7   70.0\n",
      "8              8     0      0.2     9.8        8   26.0\n",
      "9              9     0      0.2     9.8        9   27.0\n",
      "10            10     0      0.2     9.8       10   23.0\n",
      "11            11     0      0.2     9.8       11   51.0\n",
      "12            12     0      0.2     9.8       12   51.0\n",
      "13            13     0      0.2     9.8       13   37.0\n",
      "14            14     0      0.2     9.8       14   12.0\n",
      "15            15     0      0.2     9.8       15   18.0\n",
      "16            16     0      0.2     9.8       16   13.0\n",
      "17            17     0      0.2     9.8       17   16.0\n",
      "18            18     0      0.2     9.8       18   11.0\n",
      "19            19     0      0.2     9.8       19   24.0\n",
      "20            20     0      0.2     9.8       20   11.0\n",
      "21            21     0      0.2     9.8       21   19.0\n",
      "22            22     0      0.2     9.8       22   19.0\n",
      "23            23     0      0.2     9.8       23   13.0\n",
      "24            24     0      0.2     9.8       24   13.0\n",
      "25            25     0      0.2     9.8       25   16.0\n",
      "26            26     0      0.2     9.8       26   38.0\n",
      "27            27     0      0.2     9.8       27   25.0\n",
      "28            28     0      0.2     9.8       28   48.0\n",
      "29            29     0      0.2     9.8       29    9.0\n",
      "...          ...   ...      ...     ...      ...    ...\n",
      "2774        1110     0      0.5     9.8     1110  181.0\n",
      "2775        1111     0      0.5     9.8     1111  200.0\n",
      "2776        1112     0      0.5     9.8     1112  170.0\n",
      "2777        1113     0      0.5     9.8     1113  178.0\n",
      "2778        1114     0      0.5     9.8     1114  176.0\n",
      "2779        1115     0      0.5     9.8     1115  177.0\n",
      "2780        1116     0      0.5     9.8     1116  162.0\n",
      "2781        1117     0      0.5     9.8     1117  174.0\n",
      "2782        1118     0      0.5     9.8     1118  170.0\n",
      "2783        1119     0      0.5     9.8     1119  169.0\n",
      "2784        1120     0      0.5     9.8     1120  189.0\n",
      "2785        1121     0      0.5     9.8     1121  189.0\n",
      "2786        1122     0      0.5     9.8     1122  215.0\n",
      "2787        1123     0      0.5     9.8     1123  200.0\n",
      "2788        1124     0      0.5     9.8     1124  181.0\n",
      "2789        1125     0      0.5     9.8     1125  191.0\n",
      "2790        1126     0      0.5     9.8     1126  176.0\n",
      "2791        1127     0      0.5     9.8     1127  185.0\n",
      "2792        1128     0      0.5     9.8     1128  210.0\n",
      "2793        1129     0      0.5     9.8     1129  202.0\n",
      "2794        1130     0      0.5     9.8     1130  195.0\n",
      "2795        1131     0      0.5     9.8     1131  207.0\n",
      "2796        1132     0      0.5     9.8     1132  171.0\n",
      "2797        1133     0      0.5     9.8     1133  187.0\n",
      "2798        1134     0      0.5     9.8     1134  219.0\n",
      "2799        1135     0      0.5     9.8     1135  226.0\n",
      "2800        1136     0      0.5     9.8     1136  172.0\n",
      "2801        1137     0      0.5     9.8     1137  315.0\n",
      "2802        1138     0      0.5     9.8     1138  389.0\n",
      "2803        1139     0      0.5     9.8     1139  360.0\n",
      "\n",
      "[2804 rows x 6 columns]\n"
     ]
    }
   ],
   "source": [
    "df3 = pd.read_csv(path)\n",
    "print(df3)"
   ]
  },
  {
   "cell_type": "code",
   "execution_count": null,
   "metadata": {},
   "outputs": [],
   "source": []
  }
 ],
 "metadata": {
  "kernelspec": {
   "display_name": "Python 3",
   "language": "python",
   "name": "python3"
  },
  "language_info": {
   "codemirror_mode": {
    "name": "ipython",
    "version": 3
   },
   "file_extension": ".py",
   "mimetype": "text/x-python",
   "name": "python",
   "nbconvert_exporter": "python",
   "pygments_lexer": "ipython3",
   "version": "3.6.7"
  }
 },
 "nbformat": 4,
 "nbformat_minor": 2
}
